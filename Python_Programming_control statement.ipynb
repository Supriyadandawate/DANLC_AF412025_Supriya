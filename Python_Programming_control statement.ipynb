{
 "cells": [
  {
   "cell_type": "markdown",
   "metadata": {
    "id": "nF-byDARTKw9"
   },
   "source": [
    "# **1.Python program to check leap year.**"
   ]
  },
  {
   "cell_type": "code",
   "execution_count": 2,
   "metadata": {
    "colab": {
     "base_uri": "https://localhost:8080/"
    },
    "id": "LcuaaWxdSsaX",
    "outputId": "10948ce2-eafd-47c5-8e82-c8dee9968dd2"
   },
   "outputs": [
    {
     "name": "stdout",
     "output_type": "stream",
     "text": [
      "Enter a year: 2005\n",
      "2005 is not a leap year.\n"
     ]
    }
   ],
   "source": [
    "def is_leap_year(year):\n",
    "    # Leap year is divisible by 4\n",
    "    # But not divisible by 100, except if it's also divisible by 400\n",
    "    if (year % 4 == 0):\n",
    "        if (year % 100 == 0):\n",
    "            if (year % 400 == 0):\n",
    "                return True\n",
    "            else:\n",
    "                return False\n",
    "        else:\n",
    "            return True\n",
    "    else:\n",
    "        return False\n",
    "\n",
    "# Input from user\n",
    "year = int(input(\"Enter a year: \"))\n",
    "\n",
    "if is_leap_year(year):\n",
    "    print(f\"{year} is a leap year.\")\n",
    "else:\n",
    "    print(f\"{year} is not a leap year.\")\n"
   ]
  },
  {
   "cell_type": "markdown",
   "metadata": {
    "id": "p5Ch51hbUUMa"
   },
   "source": [
    "# **2.Python Program to Find the Largest Among Three Numbers**"
   ]
  },
  {
   "cell_type": "code",
   "execution_count": 3,
   "metadata": {
    "colab": {
     "base_uri": "https://localhost:8080/"
    },
    "id": "UctJ7dxCUU_n",
    "outputId": "05d551a9-5495-47d5-9ecc-b0c3121582ce"
   },
   "outputs": [
    {
     "name": "stdout",
     "output_type": "stream",
     "text": [
      "Enter the first number: 5\n",
      "Enter the second number: 9\n",
      "Enter the third number: 0\n",
      "The largest number among 5.0, 9.0, and 0.0 is 9.0.\n"
     ]
    }
   ],
   "source": [
    "def find_largest(num1, num2, num3):\n",
    "    # Compare the numbers and find the largest\n",
    "    if (num1 >= num2) and (num1 >= num3):\n",
    "        return num1\n",
    "    elif (num2 >= num1) and (num2 >= num3):\n",
    "        return num2\n",
    "    else:\n",
    "        return num3\n",
    "\n",
    "\n",
    "num1 = float(input(\"Enter the first number: \"))\n",
    "num2 = float(input(\"Enter the second number: \"))\n",
    "num3 = float(input(\"Enter the third number: \"))\n",
    "\n",
    "largest = find_largest(num1, num2, num3)\n",
    "print(f\"The largest number among {num1}, {num2}, and {num3} is {largest}.\")\n"
   ]
  },
  {
   "cell_type": "markdown",
   "metadata": {
    "id": "fdRfYbA-UuKF"
   },
   "source": [
    "# **3. Python Program to Check if a Number is Positive, Negative or 0**"
   ]
  },
  {
   "cell_type": "code",
   "execution_count": 8,
   "metadata": {
    "colab": {
     "base_uri": "https://localhost:8080/"
    },
    "id": "zSejeVgLUzw6",
    "outputId": "cfd14090-853f-45f2-e8b6-44fce681e9b1"
   },
   "outputs": [
    {
     "name": "stdout",
     "output_type": "stream",
     "text": [
      "Enter a number: 10\n",
      "The number 10.0 is positive.\n"
     ]
    }
   ],
   "source": [
    "def check_number(number):\n",
    "    if number > 0:\n",
    "        return \"positive\"\n",
    "    elif number < 0:\n",
    "        return \"negative\"\n",
    "    else:\n",
    "        return \"zero\"\n",
    "\n",
    "\n",
    "number = float(input(\"Enter a number: \"))\n",
    "\n",
    "result = check_number(number)\n",
    "print(f\"The number {number} is {result}.\")\n"
   ]
  },
  {
   "cell_type": "markdown",
   "metadata": {
    "id": "8NikhezgVMUO"
   },
   "source": [
    "# **4. Python program to calculate the net amount after applying the discount based on the toy type and order amount.**"
   ]
  },
  {
   "cell_type": "code",
   "execution_count": 13,
   "metadata": {
    "colab": {
     "base_uri": "https://localhost:8080/"
    },
    "id": "QAdV6OCmVeDi",
    "outputId": "e8422e17-bfdb-4698-82e3-990da4923b88"
   },
   "outputs": [
    {
     "name": "stdout",
     "output_type": "stream",
     "text": [
      "Enter the product code (1 for Battery Based Toys, 2 for Key-based Toys, 3 for Electrical Charging Based Toys): 2\n",
      "Enter the order amount: 200\n",
      "The net amount to pay after discount is Rs. 190.00\n"
     ]
    }
   ],
   "source": [
    "def calculate_discount(product_code, order_amount):\n",
    "    # Determine the discount based on product code and order amount\n",
    "    if product_code == 1:  # Battery Based Toys\n",
    "        if order_amount > 1000:\n",
    "            discount = 0.10\n",
    "        else:\n",
    "            discount = 0.0\n",
    "    elif product_code == 2:  # Key-based Toys\n",
    "        if order_amount > 100:\n",
    "            discount = 0.05\n",
    "        else:\n",
    "            discount = 0.0\n",
    "    elif product_code == 3:  # Electrical Charging Based Toys\n",
    "        if order_amount > 500:\n",
    "            discount = 0.10\n",
    "        else:\n",
    "            discount = 0.0\n",
    "    else:\n",
    "        print(\"Invalid product code\")\n",
    "        return None\n",
    "\n",
    "    # Calculate the discount amount\n",
    "    discount_amount = order_amount * discount\n",
    "    net_amount = order_amount - discount_amount\n",
    "    return net_amount\n",
    "\n",
    "product_code = int(input(\"Enter the product code (1 for Battery Based Toys, 2 for Key-based Toys, 3 for Electrical Charging Based Toys): \"))\n",
    "order_amount = float(input(\"Enter the order amount: \"))\n",
    "\n",
    "net_amount = calculate_discount(product_code, order_amount)\n",
    "if net_amount is not None:\n",
    "    print(f\"The net amount to pay after discount is Rs. {net_amount:.2f}\")\n"
   ]
  },
  {
   "cell_type": "markdown",
   "metadata": {
    "id": "OVGbvyEEWFLB"
   },
   "source": [
    "# **5.Python program to calculate the fare based on the distance traveled according to the provided fare structure**"
   ]
  },
  {
   "cell_type": "code",
   "execution_count": 17,
   "metadata": {
    "colab": {
     "base_uri": "https://localhost:8080/"
    },
    "id": "_3IQw2QKWFrq",
    "outputId": "6f227a8f-cba6-48f9-8913-870659d28ba0"
   },
   "outputs": [
    {
     "name": "stdout",
     "output_type": "stream",
     "text": [
      "Enter the distance traveled (in km): 60\n",
      "The fare for traveling 60.0 km is Rs. 600.00\n"
     ]
    }
   ],
   "source": [
    "def calculate_fare(distance):\n",
    "    if 1 <= distance <= 50:\n",
    "        fare = distance * 8\n",
    "    elif 51 <= distance <= 100:\n",
    "        fare = distance * 10\n",
    "    elif distance > 100:\n",
    "        fare = distance * 12\n",
    "    else:\n",
    "        return \"Invalid distance. Distance must be greater than 0.\"\n",
    "\n",
    "    return fare\n",
    "\n",
    "\n",
    "distance = float(input(\"Enter the distance traveled (in km): \"))\n",
    "\n",
    "fare = calculate_fare(distance)\n",
    "if isinstance(fare, str):\n",
    "    print(fare)\n",
    "else:\n",
    "    print(f\"The fare for traveling {distance} km is Rs. {fare:.2f}\")\n"
   ]
  }
 ],
 "metadata": {
  "colab": {
   "provenance": []
  },
  "kernelspec": {
   "display_name": "Python 3 (ipykernel)",
   "language": "python",
   "name": "python3"
  },
  "language_info": {
   "codemirror_mode": {
    "name": "ipython",
    "version": 3
   },
   "file_extension": ".py",
   "mimetype": "text/x-python",
   "name": "python",
   "nbconvert_exporter": "python",
   "pygments_lexer": "ipython3",
   "version": "3.9.13"
  }
 },
 "nbformat": 4,
 "nbformat_minor": 1
}
