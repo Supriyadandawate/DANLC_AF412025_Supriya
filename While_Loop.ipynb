{
  "nbformat": 4,
  "nbformat_minor": 0,
  "metadata": {
    "colab": {
      "provenance": [],
      "include_colab_link": true
    },
    "kernelspec": {
      "name": "python3",
      "display_name": "Python 3"
    },
    "language_info": {
      "name": "python"
    }
  },
  "cells": [
    {
      "cell_type": "markdown",
      "metadata": {
        "id": "view-in-github",
        "colab_type": "text"
      },
      "source": [
        "<a href=\"https://colab.research.google.com/github/Supriyadandawate/DANLC_AF412025_Supriya/blob/main/While_Loop.ipynb\" target=\"_parent\"><img src=\"https://colab.research.google.com/assets/colab-badge.svg\" alt=\"Open In Colab\"/></a>"
      ]
    },
    {
      "cell_type": "markdown",
      "source": [
        "# Write a python program to reverse a number using a while loop."
      ],
      "metadata": {
        "id": "WqCygpCqopCq"
      }
    },
    {
      "cell_type": "code",
      "source": [
        "# Function to reverse a number\n",
        "def reverse_number(number):\n",
        "    reversed_num = 0\n",
        "    while number > 0:\n",
        "        digit = number % 10\n",
        "        reversed_num = reversed_num * 10 + digit\n",
        "        number //= 10\n",
        "    return reversed_num\n",
        "\n",
        "# Main program\n",
        "if __name__ == \"__main__\":\n",
        "    # Input from the user\n",
        "    num = int(input(\"Enter a number: \"))\n",
        "\n",
        "    # Display the original and reversed number\n",
        "    print(\"Original Number:\", num)\n",
        "    print(\"Reversed Number:\", reverse_number(num))\n"
      ],
      "metadata": {
        "colab": {
          "base_uri": "https://localhost:8080/"
        },
        "id": "ydb87U_lo1vA",
        "outputId": "440d2aae-8f8c-43b1-fc9f-9083380bb120"
      },
      "execution_count": null,
      "outputs": [
        {
          "output_type": "stream",
          "name": "stdout",
          "text": [
            "Enter a number: 12345678\n",
            "Original Number: 12345678\n",
            "Reversed Number: 87654321\n"
          ]
        }
      ]
    },
    {
      "cell_type": "markdown",
      "source": [
        "#Write a python program to check whether a number is palindrome or not?"
      ],
      "metadata": {
        "id": "N9dv6pt7orqo"
      }
    },
    {
      "cell_type": "code",
      "source": [
        "# Function to check if a number is a palindrome\n",
        "def is_palindrome(number):\n",
        "    original_number = number\n",
        "    reversed_number = 0\n",
        "\n",
        "    while number > 0:\n",
        "        digit = number % 10\n",
        "        reversed_number = reversed_number * 10 + digit\n",
        "        number //= 10\n",
        "\n",
        "    return original_number == reversed_number\n",
        "\n",
        "# Main program\n",
        "if __name__ == \"__main__\":\n",
        "    # Input from the user\n",
        "    num = int(input(\"Enter a number: \"))\n",
        "\n",
        "    # Check if the number is a palindrome\n",
        "    if is_palindrome(num):\n",
        "        print(f\"{num} is a palindrome.\")\n",
        "    else:\n",
        "        print(f\"{num} is not a palindrome.\")\n"
      ],
      "metadata": {
        "colab": {
          "base_uri": "https://localhost:8080/"
        },
        "id": "XfP8BYSxpe2e",
        "outputId": "a9f0240e-e9e8-40e8-bebc-9d8acd8fb2ca"
      },
      "execution_count": null,
      "outputs": [
        {
          "output_type": "stream",
          "name": "stdout",
          "text": [
            "Enter a number: 35\n",
            "35 is not a palindrome.\n"
          ]
        }
      ]
    },
    {
      "cell_type": "markdown",
      "source": [
        "#Write a python program finding the factorial of a given number using a while loop."
      ],
      "metadata": {
        "id": "PmhOaPHTov2e"
      }
    },
    {
      "cell_type": "code",
      "execution_count": null,
      "metadata": {
        "colab": {
          "base_uri": "https://localhost:8080/"
        },
        "id": "oy7JRaSOojnI",
        "outputId": "d128f532-db3f-4980-f3db-83a31d3b82e1"
      },
      "outputs": [
        {
          "output_type": "stream",
          "name": "stdout",
          "text": [
            "Enter a number: 15\n",
            "The factors of 15 are: [1, 3, 5, 15]\n"
          ]
        }
      ],
      "source": [
        "# Function to find the factors of a number\n",
        "def find_factors(number):\n",
        "    factors = []\n",
        "    for i in range(1, number + 1):\n",
        "        if number % i == 0:\n",
        "            factors.append(i)\n",
        "    return factors\n",
        "\n",
        "# Main program\n",
        "if __name__ == \"__main__\":\n",
        "    # Input from the user\n",
        "    num = int(input(\"Enter a number: \"))\n",
        "\n",
        "    # Find and display the factors\n",
        "    factors = find_factors(num)\n",
        "    print(f\"The factors of {num} are: {factors}\")\n"
      ]
    },
    {
      "cell_type": "markdown",
      "source": [
        "#Accept numbers using input() function until the user enters 0. If user input 0 then break the while loop and display the sum of all the numbers.\n"
      ],
      "metadata": {
        "id": "CT7rf_38ozbe"
      }
    },
    {
      "cell_type": "code",
      "source": [
        "# Main program\n",
        "if __name__ == \"__main__\":\n",
        "    total_sum = 0\n",
        "\n",
        "    while True:\n",
        "        num = int(input(\"Enter a number (0 to stop): \"))\n",
        "\n",
        "        if num == 0:\n",
        "            break\n",
        "\n",
        "        total_sum += num\n",
        "\n",
        "    print(f\"The sum of all the numbers is: {total_sum}\")\n"
      ],
      "metadata": {
        "colab": {
          "base_uri": "https://localhost:8080/"
        },
        "id": "b-mylDRso0v0",
        "outputId": "528d32ba-4b04-44d7-fa23-d81ea2723c1e"
      },
      "execution_count": null,
      "outputs": [
        {
          "output_type": "stream",
          "name": "stdout",
          "text": [
            "Enter a number (0 to stop): 2\n",
            "Enter a number (0 to stop): 3\n",
            "Enter a number (0 to stop): 4\n",
            "Enter a number (0 to stop): 5\n",
            "Enter a number (0 to stop): 0\n",
            "The sum of all the numbers is: 14\n"
          ]
        }
      ]
    }
  ]
}