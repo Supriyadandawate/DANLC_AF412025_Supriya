{
 "cells": [
  {
   "cell_type": "markdown",
   "metadata": {
    "id": "tCbJc4tYH80t"
   },
   "source": [
    "# **1. Calculate the multiplication and sum of two numbers.**\n"
   ]
  },
  {
   "cell_type": "code",
   "execution_count": 1,
   "metadata": {
    "colab": {
     "base_uri": "https://localhost:8080/"
    },
    "id": "I0ofIQy-H2ZH",
    "outputId": "f16e1c97-c7bd-423f-dc62-d7321fc4be2d"
   },
   "outputs": [
    {
     "name": "stdout",
     "output_type": "stream",
     "text": [
      "Multiplication of 10 and 20 is: 200\n",
      "Sum of 10 and 20 is: 30\n"
     ]
    }
   ],
   "source": [
    "\n",
    "num1 = 10\n",
    "num2 = 20\n",
    "\n",
    "\n",
    "multiplication = num1 * num2\n",
    "\n",
    "\n",
    "sum_result = num1 + num2\n",
    "\n",
    "\n",
    "print(f\"Multiplication of {num1} and {num2} is: {multiplication}\")\n",
    "print(f\"Sum of {num1} and {num2} is: {sum_result}\")\n"
   ]
  },
  {
   "cell_type": "markdown",
   "metadata": {
    "id": "AWrUi2tTJdBP"
   },
   "source": [
    "# **2. Declare two variables and print that which variable is largest using ternary operators.**\n",
    "\n"
   ]
  },
  {
   "cell_type": "code",
   "execution_count": 5,
   "metadata": {
    "colab": {
     "base_uri": "https://localhost:8080/"
    },
    "id": "B0TFdBoqJjqV",
    "outputId": "dbb17391-f676-4338-dee4-23147c00d365"
   },
   "outputs": [
    {
     "name": "stdout",
     "output_type": "stream",
     "text": [
      "Largest number between 20 and 10 is 20\n"
     ]
    }
   ],
   "source": [
    "n1 = 20\n",
    "n2 = 10\n",
    "\n",
    "mx = n1 if n1 > n2 else n2\n",
    "\n",
    "print(\"Largest number between \" + str(n1) +\n",
    "                        \" and \" + str(n2) +\n",
    "                        \" is \" + str(mx))\n",
    "\n"
   ]
  },
  {
   "cell_type": "markdown",
   "metadata": {
    "id": "rzzwRWmVK3AN"
   },
   "source": [
    "# **3**. Python program to convert the temperature in degree centigrade to Fahrenheit\n"
   ]
  },
  {
   "cell_type": "code",
   "execution_count": 7,
   "metadata": {
    "colab": {
     "base_uri": "https://localhost:8080/"
    },
    "id": "YLQgdbKPMhD8",
    "outputId": "264a5679-6fd9-4b6e-f1ba-e642ad95d8ea"
   },
   "outputs": [
    {
     "name": "stdout",
     "output_type": "stream",
     "text": [
      "30°C is equal to 86.0°F\n"
     ]
    }
   ],
   "source": [
    "# Function to convert Celsius to Fahrenheit\n",
    "def celsius_to_fahrenheit(celsius):\n",
    "    fahrenheit = (celsius * 9/5) + 32\n",
    "    return fahrenheit\n",
    "\n",
    "# Example temperature in Celsius\n",
    "celsius_temp = 30\n",
    "\n",
    "# Convert to Fahrenheit\n",
    "fahrenheit_temp = celsius_to_fahrenheit(celsius_temp)\n",
    "\n",
    "# Print the result\n",
    "print(f\"{celsius_temp}°C is equal to {fahrenheit_temp}°F\")\n"
   ]
  },
  {
   "cell_type": "markdown",
   "metadata": {
    "id": "eYD7aYlANSmV"
   },
   "source": [
    "# **4. Python program to find the area of a triangle whose sides are given**"
   ]
  },
  {
   "cell_type": "code",
   "execution_count": 10,
   "metadata": {
    "colab": {
     "base_uri": "https://localhost:8080/"
    },
    "id": "0H5mJBwzNVWc",
    "outputId": "96e0595b-d3df-493a-e5b3-27978f0825db"
   },
   "outputs": [
    {
     "name": "stdout",
     "output_type": "stream",
     "text": [
      "The area of the triangle with sides 5, 5, and 4 is: 9.17\n"
     ]
    }
   ],
   "source": [
    "import math\n",
    "\n",
    "# Function to calculate the area of a triangle using Heron's formula\n",
    "def triangle_area(a, b, c):\n",
    "    # Calculate the semi-perimeter\n",
    "    s = (a + b + c) / 2\n",
    "\n",
    "    # Calculate the area using Heron's formula\n",
    "    area = math.sqrt(s * (s - a) * (s - b) * (s - c))\n",
    "\n",
    "    return area\n",
    "\n",
    "# Example sides of the triangle\n",
    "a = 5\n",
    "b = 5\n",
    "c = 4\n",
    "\n",
    "# Calculate the area\n",
    "area = triangle_area(a, b, c)\n",
    "\n",
    "# Print the result\n",
    "print(f\"The area of the triangle with sides {a}, {b}, and {c} is: {area:.2f}\")\n"
   ]
  }
 ],
 "metadata": {
  "colab": {
   "name": "Welcome to Colaboratory",
   "provenance": [],
   "toc_visible": true
  },
  "kernelspec": {
   "display_name": "Python 3 (ipykernel)",
   "language": "python",
   "name": "python3"
  },
  "language_info": {
   "codemirror_mode": {
    "name": "ipython",
    "version": 3
   },
   "file_extension": ".py",
   "mimetype": "text/x-python",
   "name": "python",
   "nbconvert_exporter": "python",
   "pygments_lexer": "ipython3",
   "version": "3.9.13"
  }
 },
 "nbformat": 4,
 "nbformat_minor": 1
}
