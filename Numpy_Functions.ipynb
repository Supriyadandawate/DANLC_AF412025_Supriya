{
  "nbformat": 4,
  "nbformat_minor": 0,
  "metadata": {
    "colab": {
      "provenance": [],
      "authorship_tag": "ABX9TyP+Gij1sinUt7IkLNOwuhOB",
      "include_colab_link": true
    },
    "kernelspec": {
      "name": "python3",
      "display_name": "Python 3"
    },
    "language_info": {
      "name": "python"
    }
  },
  "cells": [
    {
      "cell_type": "markdown",
      "metadata": {
        "id": "view-in-github",
        "colab_type": "text"
      },
      "source": [
        "<a href=\"https://colab.research.google.com/github/Supriyadandawate/DANLC_AF412025_Supriya/blob/main/Numpy_Functions.ipynb\" target=\"_parent\"><img src=\"https://colab.research.google.com/assets/colab-badge.svg\" alt=\"Open In Colab\"/></a>"
      ]
    },
    {
      "cell_type": "markdown",
      "source": [
        "#1. Suppose you have a dataset containing daily temperature readings for a city, and you want to identify days with extreme temperature conditions. Find days where the temperature either exceeded 35 degrees Celsius (hot day) or dropped below 5 degrees Celsius (cold day).\n",
        "\n",
        "Input:\n",
        "\n",
        "temperatures = np.array([32.5, 34.2, 36.8, 29.3, 31.0, 38.7, 23.1, 18.5, 22.8, 37.2,4,25,12,-4,-12])\n"
      ],
      "metadata": {
        "id": "pic2G700NfvC"
      }
    },
    {
      "cell_type": "code",
      "execution_count": null,
      "metadata": {
        "id": "Xdoq8VgtM5nu"
      },
      "outputs": [],
      "source": [
        "import numpy as np\n",
        "\n",
        "# Input dataset\n",
        "temperatures = np.array([32.5, 34.2, 36.8, 29.3, 31.0, 38.7, 23.1, 18.5, 22.8, 37.2, 4, 25, 12, -4, -12])\n",
        "\n",
        "# Identifying hot and cold days\n",
        "hot_days = temperatures[temperatures > 35]  # Days with temperature above 35°C\n",
        "cold_days = temperatures[temperatures < 5]  # Days with temperature below 5°C\n",
        "\n",
        "# Output the results\n",
        "print(\"Hot Days (Temperature > 35°C):\", hot_days)\n",
        "print(\"Cold Days (Temperature < 5°C):\", cold_days)\n"
      ]
    },
    {
      "cell_type": "markdown",
      "source": [
        "#2. Suppose you have a dataset containing monthly sales data for a company, and you want to split this data into quarterly reports for analysis and reporting purposes.\n",
        " Input: monthly_sales = np.array([120, 135, 148, 165, 180, 155, 168, 190, 205, 198, 210, 225])"
      ],
      "metadata": {
        "id": "b6ZIcZMINt-F"
      }
    },
    {
      "cell_type": "code",
      "source": [
        "import numpy as np\n",
        "\n",
        "# Input dataset\n",
        "monthly_sales = np.array([120, 135, 148, 165, 180, 155, 168, 190, 205, 198, 210, 225])\n",
        "\n",
        "# Splitting the data into 4 quarters (3 months each)\n",
        "quarterly_reports = np.split(monthly_sales, 4)\n",
        "\n",
        "# Output the results\n",
        "for i, quarter in enumerate(quarterly_reports, 1):\n",
        "    print(f\"Q{i}: {quarter}\")\n"
      ],
      "metadata": {
        "id": "ecKwDSqxN8-k"
      },
      "execution_count": null,
      "outputs": []
    }
  ]
}