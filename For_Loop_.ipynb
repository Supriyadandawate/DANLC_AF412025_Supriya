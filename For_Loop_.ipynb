{
  "nbformat": 4,
  "nbformat_minor": 0,
  "metadata": {
    "colab": {
      "provenance": [],
      "include_colab_link": true
    },
    "kernelspec": {
      "name": "python3",
      "display_name": "Python 3"
    },
    "language_info": {
      "name": "python"
    }
  },
  "cells": [
    {
      "cell_type": "markdown",
      "metadata": {
        "id": "view-in-github",
        "colab_type": "text"
      },
      "source": [
        "<a href=\"https://colab.research.google.com/github/Supriyadandawate/DANLC_AF412025_Supriya/blob/main/For_Loop_.ipynb\" target=\"_parent\"><img src=\"https://colab.research.google.com/assets/colab-badge.svg\" alt=\"Open In Colab\"/></a>"
      ]
    },
    {
      "cell_type": "markdown",
      "source": [
        "# Print the table of 5 using for loop\n"
      ],
      "metadata": {
        "id": "-kjykdjmQBlO"
      }
    },
    {
      "cell_type": "code",
      "source": [
        "# Number for which the table is to be printed\n",
        "number = 5\n",
        "\n",
        "# Print the table of the number using a for loop\n",
        "print(f\"Table of {number}:\")\n",
        "for i in range(1, 11):\n",
        "    print(f\"{number} x {i} = {number * i}\")\n"
      ],
      "metadata": {
        "colab": {
          "base_uri": "https://localhost:8080/"
        },
        "id": "7kCM0ZLeRnZ2",
        "outputId": "a56de01a-a8d1-4e1c-f006-4d902e3c033d"
      },
      "execution_count": null,
      "outputs": [
        {
          "output_type": "stream",
          "name": "stdout",
          "text": [
            "Table of 5:\n",
            "5 x 1 = 5\n",
            "5 x 2 = 10\n",
            "5 x 3 = 15\n",
            "5 x 4 = 20\n",
            "5 x 5 = 25\n",
            "5 x 6 = 30\n",
            "5 x 7 = 35\n",
            "5 x 8 = 40\n",
            "5 x 9 = 45\n",
            "5 x 10 = 50\n"
          ]
        }
      ]
    },
    {
      "cell_type": "markdown",
      "source": [
        "#Print even number series by taking input from the user:"
      ],
      "metadata": {
        "id": "1S4_LWG8QGxu"
      }
    },
    {
      "cell_type": "code",
      "execution_count": null,
      "metadata": {
        "colab": {
          "base_uri": "https://localhost:8080/"
        },
        "id": "U64scFyxP7_k",
        "outputId": "bd3dd992-b15e-437f-b27c-ee589082577d"
      },
      "outputs": [
        {
          "output_type": "stream",
          "name": "stdout",
          "text": [
            "Enter the starting number: 1\n",
            "Enter the ending number: 100\n",
            "Even numbers from 1 to 100:\n",
            "2 4 6 8 10 12 14 16 18 20 22 24 26 28 30 32 34 36 38 40 42 44 46 48 50 52 54 56 58 60 62 64 66 68 70 72 74 76 78 80 82 84 86 88 90 92 94 96 98 100 "
          ]
        }
      ],
      "source": [
        "# Take input from the user for the start and end of the range\n",
        "start = int(input(\"Enter the starting number: \"))\n",
        "end = int(input(\"Enter the ending number: \"))\n",
        "\n",
        "# Print even numbers within the given range\n",
        "print(f\"Even numbers from {start} to {end}:\")\n",
        "\n",
        "for number in range(start, end + 1):\n",
        "    if number % 2 == 0:\n",
        "        print(number, end=' ')\n"
      ]
    },
    {
      "cell_type": "markdown",
      "source": [
        "# Create a list and iterate through its items using a for loop:"
      ],
      "metadata": {
        "id": "ln5C9vTxQLIQ"
      }
    },
    {
      "cell_type": "code",
      "source": [
        "# Create a list with some items\n",
        "my_list = [10, 20, 30, 40, 50]\n",
        "\n",
        "# Iterate through the list using a for loop\n",
        "print(\"Items in the list:\")\n",
        "for item in my_list:\n",
        "    print(item)\n"
      ],
      "metadata": {
        "colab": {
          "base_uri": "https://localhost:8080/"
        },
        "id": "tT-I8YpjSJ7u",
        "outputId": "236fd215-5a7c-4ba9-b0d7-3e010f1188e8"
      },
      "execution_count": null,
      "outputs": [
        {
          "output_type": "stream",
          "name": "stdout",
          "text": [
            "Items in the list:\n",
            "10\n",
            "20\n",
            "30\n",
            "40\n",
            "50\n"
          ]
        }
      ]
    },
    {
      "cell_type": "markdown",
      "source": [
        "# Calculate the sum of numbers from 1 to 10"
      ],
      "metadata": {
        "id": "NTxarUwRQTd7"
      }
    },
    {
      "cell_type": "code",
      "source": [
        "# Initialize an empty list to store numbers\n",
        "numbers = []\n",
        "\n",
        "# Take 10 numbers as input from the user\n",
        "for i in range(10):\n",
        "    number = int(input(f\"Enter number {i+1}: \"))\n",
        "    numbers.append(number)\n",
        "\n",
        "# Calculate the sum of the numbers\n",
        "total_sum = sum(numbers)\n",
        "\n",
        "# Display the result\n",
        "print(f\"The sum of the entered numbers is: {total_sum}\")\n"
      ],
      "metadata": {
        "colab": {
          "base_uri": "https://localhost:8080/"
        },
        "id": "Gw3yZYhtQrDk",
        "outputId": "edc42a20-a217-4a9e-ee69-4fcc2f01d318"
      },
      "execution_count": null,
      "outputs": [
        {
          "output_type": "stream",
          "name": "stdout",
          "text": [
            "Enter number 1: 1\n",
            "Enter number 2: 15\n",
            "Enter number 3: 3\n",
            "Enter number 4: 8\n",
            "Enter number 5: 10\n",
            "Enter number 6: 14\n",
            "Enter number 7: 12\n",
            "Enter number 8: 1\n",
            "Enter number 9: 1\n",
            "Enter number 10: 1\n",
            "The sum of the entered numbers is: 66\n"
          ]
        }
      ]
    }
  ]
}