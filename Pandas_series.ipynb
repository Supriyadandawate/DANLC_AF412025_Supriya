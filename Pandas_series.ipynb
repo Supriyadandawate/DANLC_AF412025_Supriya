{
  "nbformat": 4,
  "nbformat_minor": 0,
  "metadata": {
    "colab": {
      "provenance": [],
      "authorship_tag": "ABX9TyP6NOyIafBf/tgxs/lZ5KkU",
      "include_colab_link": true
    },
    "kernelspec": {
      "name": "python3",
      "display_name": "Python 3"
    },
    "language_info": {
      "name": "python"
    }
  },
  "cells": [
    {
      "cell_type": "markdown",
      "metadata": {
        "id": "view-in-github",
        "colab_type": "text"
      },
      "source": [
        "<a href=\"https://colab.research.google.com/github/Supriyadandawate/DANLC_AF412025_Supriya/blob/main/Pandas_series.ipynb\" target=\"_parent\"><img src=\"https://colab.research.google.com/assets/colab-badge.svg\" alt=\"Open In Colab\"/></a>"
      ]
    },
    {
      "cell_type": "markdown",
      "source": [
        "#Lab1: Suppose you are a teacher, and you want to analyze the exam scores of yourstudents in a particular subject. You have recorded the scores of your students for arecent exam, and you want to represent this data using a Pandas Series.\n",
        "Input:\n",
        "students = ['Alice', 'Bob', 'Charlie', 'David', 'Eve', 'Frank', 'Grace', 'Hannah', 'Ivy', 'Jack']\n",
        "\n",
        "exam_scores = [92, 88, 76, 94, 82, 90, 85, 89, 78, 91]"
      ],
      "metadata": {
        "id": "wq8N3k1fi0uo"
      }
    },
    {
      "cell_type": "code",
      "execution_count": 35,
      "metadata": {
        "colab": {
          "base_uri": "https://localhost:8080/"
        },
        "id": "IiWm5QMJRVeA",
        "outputId": "31ff0128-dc4a-4370-8d67-1e2021aafc7d"
      },
      "outputs": [
        {
          "output_type": "stream",
          "name": "stdout",
          "text": [
            "Alice      92\n",
            "Bob        88\n",
            "charlie    76\n",
            "David      94\n",
            "Eve        82\n",
            "Frank      90\n",
            "Grace      85\n",
            "Hannah     89\n",
            "lvy        78\n",
            "Jack       91\n",
            "dtype: int64\n"
          ]
        }
      ],
      "source": [
        "import pandas as pd\n",
        "\n",
        "#given name students and exam_score\n",
        "students = ['Alice', 'Bob', 'charlie', 'David', 'Eve', 'Frank' , 'Grace', 'Hannah', 'lvy', 'Jack']\n",
        "exam_scores = [92 ,88, 76, 94, 82, 90, 85, 89, 78, 91]\n",
        "\n",
        "# Creating a Pandas Series to represent the data\n",
        "exam_scores_series = pd.Series(exam_scores, index=students)\n",
        "\n",
        "\n",
        "#Display the series\n",
        "print(exam_scores_series)\n",
        "\n"
      ]
    },
    {
      "cell_type": "markdown",
      "source": [
        "#Lab2: Suppose you want to track and analyze your household expenses for a month.\n",
        "You have recorded the expenses for various categories, such as groceries, utilities, rent,\n",
        "transportation, and entertainment. You can represent this expense data using a Pandas\n",
        "Series.\n",
        "Input:\n",
        "# Expense categories\n",
        "categories = ['Groceries', 'Utilities', 'Rent', 'Transportation', 'Entertainment']\n",
        "# Monthly expense data (example data in USD)\n",
        "expenses = [500, 200, 1200, 300, 150]\n"
      ],
      "metadata": {
        "id": "lKBU0xfhjdyj"
      }
    },
    {
      "cell_type": "code",
      "source": [
        "# import pandas library\n",
        "import pandas as pd\n",
        "\n",
        "# given Expense Categories and  Monthly expenses data(example data in USD)\n",
        "categories = ['Groceries', 'Utilities', 'Rent', 'Transportation', 'Enterntainment']\n",
        "expenses = [500,200,1200,300,150]\n",
        "\n",
        "# creating pandas series to represent the data\n",
        "expenses_series = pd.Series(expenses, index=categories)\n",
        "\n",
        "# Display the series\n",
        "print(expenses_series)\n",
        "\n"
      ],
      "metadata": {
        "colab": {
          "base_uri": "https://localhost:8080/"
        },
        "id": "dzcrZdXiWkkO",
        "outputId": "f0eb92fe-4feb-42a9-c5c6-3e32a81739a1"
      },
      "execution_count": 36,
      "outputs": [
        {
          "output_type": "stream",
          "name": "stdout",
          "text": [
            "Groceries          500\n",
            "Utilities          200\n",
            "Rent              1200\n",
            "Transportation     300\n",
            "Enterntainment     150\n",
            "dtype: int64\n"
          ]
        }
      ]
    },
    {
      "cell_type": "markdown",
      "source": [
        "#Lab3: Suppose you want to track and analyze the monthly energy consumption in yourhome. You have recorded the monthly energy usage for electricity and gas over a year,and you want to represent this data using Pandas Series.\n",
        "Input:\n",
        "# Months in a year\n",
        "months = ['January', 'February', 'March', 'April', 'May', 'June', 'July', 'August',\n",
        "'September', 'October', 'November', 'December']\n",
        "# Monthly energy consumption data (example data in kilowatt-hours for electricity and\n",
        "therms for gas)\n",
        "electricity_usage = [350, 320, 310, 330, 340, 370, 380, 360, 350, 330, 320, 330]\n",
        "gas_usage = [20, 18, 16, 15, 12, 10, 8, 9, 12, 15, 17, 19]"
      ],
      "metadata": {
        "id": "SmfwsNF7aVvv"
      }
    },
    {
      "cell_type": "code",
      "source": [
        "# import the library\n",
        "import pandas as pd\n",
        "\n",
        "# given months in year , monthly energy consumption data , gas usage data\n",
        "months = ['January', 'February', 'March', 'April', 'May', 'June', 'July', 'August', 'September', 'October', 'November' , 'December']\n",
        "electricity_usage = [350, 320, 310, 330, 340, 370, 380, 360, 350, 330, 320, 330]\n",
        "gas_usage = [20, 18, 16, 15, 12, 10, 8, 9, 12, 15, 17, 19]\n",
        "\n",
        "# Creating a pandas series to represent the data\n",
        "elecricity_usage_series = pd.Series(electricity_usage, index=months)\n",
        "gas_usage_series = pd.Series(gas_usage,index=months)\n",
        "\n",
        "print(\"\\n elecricity_usage monthly data in kilowatt-hours :\\n\" ,elecricity_usage_series)\n",
        "\n",
        "print(\"\\n gas_usage monthly data(thermas over month) :\\n\", gas_usage_series)"
      ],
      "metadata": {
        "colab": {
          "base_uri": "https://localhost:8080/"
        },
        "id": "ealqm0XbZc50",
        "outputId": "160d9a61-3c92-4d89-dba6-d5e6a56a382c"
      },
      "execution_count": 37,
      "outputs": [
        {
          "output_type": "stream",
          "name": "stdout",
          "text": [
            "\n",
            " elecricity_usage monthly data in kilowatt-hours :\n",
            " January      350\n",
            "February     320\n",
            "March        310\n",
            "April        330\n",
            "May          340\n",
            "June         370\n",
            "July         380\n",
            "August       360\n",
            "September    350\n",
            "October      330\n",
            "November     320\n",
            "December     330\n",
            "dtype: int64\n",
            "\n",
            " gas_usage monthly data(thermas over month) :\n",
            " January      20\n",
            "February     18\n",
            "March        16\n",
            "April        15\n",
            "May          12\n",
            "June         10\n",
            "July          8\n",
            "August        9\n",
            "September    12\n",
            "October      15\n",
            "November     17\n",
            "December     19\n",
            "dtype: int64\n"
          ]
        }
      ]
    },
    {
      "cell_type": "markdown",
      "source": [
        "#Lab4:Suppose you are managing a website and want to analyze the monthly revenue\n",
        "generated from advertising. You have recorded the monthly revenue for the past year,and you want to represent this data using a Pandas Series.\n",
        "\n",
        "Input:\n",
        " # Months in a year\n",
        "months = ['January', 'February', 'March', 'April', 'May', 'June', 'July''August','September', 'October', 'November', 'December']\n",
        "# Monthly advertising revenue data (example data in USD)\n",
        "revenue = [5000, 5200, 4800, 5400, 5600, 5800, 6100, 5900, 6200, 6500, 7000, 6900]"
      ],
      "metadata": {
        "id": "7cnrvLx0ek9Z"
      }
    },
    {
      "cell_type": "code",
      "source": [
        "# import the library\n",
        "import pandas as pd\n",
        "\n",
        "# given data months in year and monthly advertising revenue data\n",
        "months = ['January', 'February', 'March', 'April', 'May', 'June','July' ,'August','September','October','November','December']\n",
        "revenue=[5000, 5200, 4800, 5400, 5600, 5800, 6100, 5900, 6200, 6500, 7000, 6900]\n",
        "\n",
        "# pandas series to represent data\n",
        "revenue_series = pd.Series(revenue, index=months, name ='Monthly revenue(USD)')\n",
        "\n",
        "# Display the series\n",
        "print(revenue_series)"
      ],
      "metadata": {
        "colab": {
          "base_uri": "https://localhost:8080/"
        },
        "id": "S95keN6meLLQ",
        "outputId": "999c26b3-6b5e-49f0-be95-bba30d62134b"
      },
      "execution_count": 38,
      "outputs": [
        {
          "output_type": "stream",
          "name": "stdout",
          "text": [
            "January      5000\n",
            "February     5200\n",
            "March        4800\n",
            "April        5400\n",
            "May          5600\n",
            "June         5800\n",
            "July         6100\n",
            "August       5900\n",
            "September    6200\n",
            "October      6500\n",
            "November     7000\n",
            "December     6900\n",
            "Name: Monthly revenue(USD), dtype: int64\n"
          ]
        }
      ]
    }
  ]
}