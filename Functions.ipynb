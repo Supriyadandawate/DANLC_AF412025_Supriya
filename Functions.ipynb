{
  "nbformat": 4,
  "nbformat_minor": 0,
  "metadata": {
    "colab": {
      "provenance": []
    },
    "kernelspec": {
      "name": "python3",
      "display_name": "Python 3"
    },
    "language_info": {
      "name": "python"
    }
  },
  "cells": [
    {
      "cell_type": "markdown",
      "source": [
        "#Declare a div() function with two parameters. Then call the function and pass two numbers and display their division.\n",
        "\n",
        "\n"
      ],
      "metadata": {
        "id": "KCgGGFB5EPhO"
      }
    },
    {
      "cell_type": "code",
      "source": [
        "# Function to perform division\n",
        "def div(num1, num2):\n",
        "    try:\n",
        "        # Perform division\n",
        "        result = num1 / num2\n",
        "        return result\n",
        "    except ZeroDivisionError:\n",
        "        return \"Error: Division by zero is not allowed.\"\n",
        "\n",
        "# Take input from the user and check if it's an integer or float\n",
        "def get_number_input(prompt):\n",
        "    user_input = input(prompt)\n",
        "    if '.' in user_input:\n",
        "        return float(user_input)  # Convert to float if the input has a decimal\n",
        "    else:\n",
        "        return int(user_input)  # Convert to integer if no decimal is present\n",
        "\n",
        "# Get the two numbers from the user\n",
        "number1 = get_number_input(\"Enter the first number: \")\n",
        "number2 = get_number_input(\"Enter the second number: \")\n",
        "\n",
        "# Call the function and pass the user inputs\n",
        "division_result = div(number1, number2)\n",
        "\n",
        "# Display the result\n",
        "print(f\"Division of {number1} by {number2} is: {division_result}\")\n"
      ],
      "metadata": {
        "colab": {
          "base_uri": "https://localhost:8080/"
        },
        "id": "XadycpEEEprL",
        "outputId": "7c664945-17ba-4991-8856-02f1cc1acb89"
      },
      "execution_count": 5,
      "outputs": [
        {
          "output_type": "stream",
          "name": "stdout",
          "text": [
            "Enter the first number: 2\n",
            "Enter the second number: 5\n",
            "Division of 2 by 5 is: 0.4\n"
          ]
        }
      ]
    },
    {
      "cell_type": "markdown",
      "source": [
        "#Declare a square() function with one parameter.Then call the function and pass one number and display the square of that number ."
      ],
      "metadata": {
        "id": "GFRkwF6TEZRX"
      }
    },
    {
      "cell_type": "code",
      "source": [
        "# Function to calculate the square of a number\n",
        "def square(num):\n",
        "    return num ** 2  # Square the number\n",
        "\n",
        "# Take input from the user\n",
        "number = int(input(\"Enter a number: \"))\n",
        "\n",
        "# Call the function and pass the number\n",
        "square_result = square(number)\n",
        "\n",
        "# Display the result\n",
        "print(f\"The square of {number} is: {square_result}\")\n"
      ],
      "metadata": {
        "colab": {
          "base_uri": "https://localhost:8080/"
        },
        "id": "GYYkNFnyIYKh",
        "outputId": "f4438979-5000-44dd-ba3b-958751622dd1"
      },
      "execution_count": 6,
      "outputs": [
        {
          "output_type": "stream",
          "name": "stdout",
          "text": [
            "Enter a number: 3\n",
            "The square of 3 is: 9\n"
          ]
        }
      ]
    },
    {
      "cell_type": "markdown",
      "source": [
        "#Using max() and min() functions display the maximum and minimum of 5 random numbers.\n"
      ],
      "metadata": {
        "id": "isaWWX3uEfmA"
      }
    },
    {
      "cell_type": "code",
      "source": [
        "2# Take 5 numbers as input from the user\n",
        "numbers = []\n",
        "\n",
        "for i in range(5):\n",
        "    number = int(input(f\"Enter number {i+1}: \"))\n",
        "    numbers.append(number)\n",
        "\n",
        "# Find the maximum and minimum of the input numbers\n",
        "max_number = max(numbers)\n",
        "min_number = min(numbers)\n",
        "\n",
        "# Display the numbers, maximum, and minimum\n",
        "print(f\"\\nYou entered: {numbers}\")\n",
        "print(f\"Maximum number: {max_number}\")\n",
        "print(f\"Minimum number: {min_number}\")\n"
      ],
      "metadata": {
        "colab": {
          "base_uri": "https://localhost:8080/"
        },
        "id": "RET5U_swNmQh",
        "outputId": "44b57dcd-b697-4ac2-940e-5a43dc61d5b2"
      },
      "execution_count": 13,
      "outputs": [
        {
          "output_type": "stream",
          "name": "stdout",
          "text": [
            "Enter number 1: 5\n",
            "Enter number 2: 7\n",
            "Enter number 3: 1\n",
            "Enter number 4: 9\n",
            "Enter number 5: 10\n",
            "\n",
            "You entered: [5, 7, 1, 9, 10]\n",
            "Maximum number: 10\n",
            "Minimum number: 1\n"
          ]
        }
      ]
    },
    {
      "cell_type": "markdown",
      "source": [
        "#Accept a name from the user and display that in lower case using lower() function\n"
      ],
      "metadata": {
        "id": "sHz1OCKqEkpD"
      }
    },
    {
      "cell_type": "code",
      "execution_count": 14,
      "metadata": {
        "colab": {
          "base_uri": "https://localhost:8080/"
        },
        "id": "qJPukvNBEI9G",
        "outputId": "73e76f60-3cff-48a3-acc0-cabf2279956b"
      },
      "outputs": [
        {
          "output_type": "stream",
          "name": "stdout",
          "text": [
            "Enter your name: SONAL GHUGE\n",
            "Your name in lowercase is: sonal ghuge\n"
          ]
        }
      ],
      "source": [
        "# Accept a name from the user\n",
        "name = input(\"Enter your name: \")\n",
        "\n",
        "# Convert the name to lowercase\n",
        "lowercase_name = name.lower()\n",
        "\n",
        "# Display the name in lowercase\n",
        "print(f\"Your name in lowercase is: {lowercase_name}\")\n"
      ]
    }
  ]
}