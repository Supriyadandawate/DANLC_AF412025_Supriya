{
  "nbformat": 4,
  "nbformat_minor": 0,
  "metadata": {
    "colab": {
      "provenance": [],
      "authorship_tag": "ABX9TyPl2AnCJpyTvTlI0mqDnflB",
      "include_colab_link": true
    },
    "kernelspec": {
      "name": "python3",
      "display_name": "Python 3"
    },
    "language_info": {
      "name": "python"
    }
  },
  "cells": [
    {
      "cell_type": "markdown",
      "metadata": {
        "id": "view-in-github",
        "colab_type": "text"
      },
      "source": [
        "<a href=\"https://colab.research.google.com/github/Supriyadandawate/DANLC_AF412025_Supriya/blob/main/Numpy_Slicing.ipynb\" target=\"_parent\"><img src=\"https://colab.research.google.com/assets/colab-badge.svg\" alt=\"Open In Colab\"/></a>"
      ]
    },
    {
      "cell_type": "markdown",
      "source": [],
      "metadata": {
        "id": "H2pQIJlm8pkA"
      }
    },
    {
      "cell_type": "markdown",
      "source": [
        "#1. Write a NumPy program to create an array of 10 zeros, 10 ones, and 10 fives"
      ],
      "metadata": {
        "id": "vk7unlO88pg4"
      }
    },
    {
      "cell_type": "code",
      "execution_count": 5,
      "metadata": {
        "colab": {
          "base_uri": "https://localhost:8080/"
        },
        "id": "gRQbU5GJ8MAa",
        "outputId": "0160faf2-2e67-46b0-bbde-1ad9f06e3062"
      },
      "outputs": [
        {
          "output_type": "stream",
          "name": "stdout",
          "text": [
            "Array of 10 zeros: [0 0 0 0 0 0 0 0 0 0]\n",
            "Array of 10 ones: [1 1 1 1 1 1 1 1 1 1]\n",
            "Array of 10 fives: [5 5 5 5 5 5 5 5 5 5]\n"
          ]
        }
      ],
      "source": [
        "import numpy as np\n",
        "\n",
        "# Create arrays of 10 zeros, 10 ones, and 10 fives\n",
        "zeros_array = np.zeros(10, dtype=int)\n",
        "ones_array = np.ones(10, dtype=int)\n",
        "fives_array = np.full(10, 5, dtype=int)\n",
        "\n",
        "# Print each array separately in the required format\n",
        "print(\"Array of 10 zeros:\", zeros_array)\n",
        "print(\"Array of 10 ones:\", ones_array)\n",
        "print(\"Array of 10 fives:\", fives_array)\n"
      ]
    },
    {
      "cell_type": "markdown",
      "source": [
        "#2. Create a 3x3 matrix with values ranging from 2 to 10"
      ],
      "metadata": {
        "id": "gM3xvhrD-Uv4"
      }
    },
    {
      "cell_type": "code",
      "source": [
        "matrix = np.arange(2, 11).reshape(3, 3)\n",
        "print(\"3x3 matrix with values from 2 to 10:\")\n",
        "print(matrix)\n"
      ],
      "metadata": {
        "colab": {
          "base_uri": "https://localhost:8080/"
        },
        "id": "g7VzDOsh-hga",
        "outputId": "e54e2412-fbf9-4e66-ad77-154966eb773b"
      },
      "execution_count": 6,
      "outputs": [
        {
          "output_type": "stream",
          "name": "stdout",
          "text": [
            "3x3 matrix with values from 2 to 10:\n",
            "[[ 2  3  4]\n",
            " [ 5  6  7]\n",
            " [ 8  9 10]]\n"
          ]
        }
      ]
    },
    {
      "cell_type": "markdown",
      "source": [
        "#3. Create an array with values ranging from 12 to 38"
      ],
      "metadata": {
        "id": "yJHVbWsY-rEl"
      }
    },
    {
      "cell_type": "code",
      "source": [
        "array = np.arange(12, 39)\n",
        "print(\"Array with values from 12 to 38:\")\n",
        "print(array)\n"
      ],
      "metadata": {
        "colab": {
          "base_uri": "https://localhost:8080/"
        },
        "id": "9kbKYv_k-y2w",
        "outputId": "fa6f82ed-870b-4a01-a234-35c1bbabaf03"
      },
      "execution_count": 7,
      "outputs": [
        {
          "output_type": "stream",
          "name": "stdout",
          "text": [
            "Array with values from 12 to 38:\n",
            "[12 13 14 15 16 17 18 19 20 21 22 23 24 25 26 27 28 29 30 31 32 33 34 35\n",
            " 36 37 38]\n"
          ]
        }
      ]
    },
    {
      "cell_type": "markdown",
      "source": [
        "#4. Convert a list and a tuple into arrays"
      ],
      "metadata": {
        "id": "ztoNc_FT-7qq"
      }
    },
    {
      "cell_type": "code",
      "source": [
        "# Given list and tuple\n",
        "my_list = [1, 2, 3, 4, 5, 6, 7, 8]\n",
        "my_tuple = ([8, 4, 6], [1, 2, 3])\n",
        "\n",
        "# Convert to arrays\n",
        "array_from_list = np.array(my_list)\n",
        "array_from_tuple = np.array(my_tuple)\n",
        "\n",
        "print(\"Array from list:\", array_from_list)\n",
        "print(\"Array from tuple:\", array_from_tuple)\n"
      ],
      "metadata": {
        "colab": {
          "base_uri": "https://localhost:8080/"
        },
        "id": "0-yryMYX_BcM",
        "outputId": "dc874da0-1e26-4318-f38c-cb1c2bb4bfef"
      },
      "execution_count": 8,
      "outputs": [
        {
          "output_type": "stream",
          "name": "stdout",
          "text": [
            "Array from list: [1 2 3 4 5 6 7 8]\n",
            "Array from tuple: [[8 4 6]\n",
            " [1 2 3]]\n"
          ]
        }
      ]
    },
    {
      "cell_type": "markdown",
      "source": [],
      "metadata": {
        "id": "sJ2tz5KB_QdH"
      }
    }
  ]
}