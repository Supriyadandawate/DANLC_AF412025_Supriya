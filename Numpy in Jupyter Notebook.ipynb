{
 "cells": [
  {
   "cell_type": "code",
   "execution_count": 1,
   "id": "82ced35a",
   "metadata": {},
   "outputs": [
    {
     "name": "stdout",
     "output_type": "stream",
     "text": [
      "Hello world\n"
     ]
    }
   ],
   "source": [
    "print(\"Hello world\")\n"
   ]
  },
  {
   "cell_type": "markdown",
   "id": "33b6780d",
   "metadata": {},
   "source": [
    "# Creating headers"
   ]
  },
  {
   "cell_type": "markdown",
   "id": "2ea53a64",
   "metadata": {},
   "source": [
    "# Heading 1\n",
    "## Heading 2\n",
    "### Heading \n",
    "#### Heading 4"
   ]
  },
  {
   "cell_type": "markdown",
   "id": "ceab7c45",
   "metadata": {},
   "source": [
    "# Making List\n",
    "* Item 1\n",
    "* Item 2\n",
    "* Item 3\n"
   ]
  },
  {
   "cell_type": "markdown",
   "id": "a91eaffa",
   "metadata": {},
   "source": [
    "\n",
    "# Lab 2 \n",
    "\n"
   ]
  },
  {
   "cell_type": "code",
   "execution_count": 2,
   "id": "3d6fb58b",
   "metadata": {},
   "outputs": [
    {
     "name": "stdout",
     "output_type": "stream",
     "text": [
      "Numpy array:\n",
      "[1 2 3 4 5]\n"
     ]
    }
   ],
   "source": [
    "# 1.Convert the below list into numpy array then display the aaray\n",
    "import numpy as np\n",
    "\n",
    "my_list = [1, 2, 3, 4, 5]\n",
    "numpy_array = np.array(my_list)\n",
    "\n",
    "print(\"Numpy array:\")\n",
    "print(numpy_array)\n",
    "\n"
   ]
  },
  {
   "cell_type": "code",
   "execution_count": 3,
   "id": "82be00d8",
   "metadata": {},
   "outputs": [
    {
     "name": "stdout",
     "output_type": "stream",
     "text": [
      "Numpy array:\n",
      "[1 2 3 4 5]\n",
      "\n",
      "First element: 1\n",
      "Last element: 5\n",
      "\n",
      "Array after multiplying each element by 2:\n",
      "[ 2  4  6  8 10]\n"
     ]
    }
   ],
   "source": [
    "# 2.convert the below list into numpy aaray then display the array then display the first and last index and then multiply each element by 2 and display the result.\n",
    "import numpy as np\n",
    "\n",
    "# Convert the list into a numpy array\n",
    "my_list = [1, 2, 3, 4, 5]\n",
    "numpy_array = np.array(my_list)\n",
    "\n",
    "# Display the numpy array\n",
    "print(\"Numpy array:\")\n",
    "print(numpy_array)\n",
    "\n",
    "# Display the first and last index elements\n",
    "print(\"\\nFirst element:\", numpy_array[0])\n",
    "print(\"Last element:\", numpy_array[-1])\n",
    "\n",
    "# Multiply each element by 2\n",
    "result_array = numpy_array * 2\n",
    "\n",
    "# Display the result\n",
    "print(\"\\nArray after multiplying each element by 2:\")\n",
    "print(result_array)\n",
    "\n"
   ]
  }
 ],
 "metadata": {
  "kernelspec": {
   "display_name": "Python 3 (ipykernel)",
   "language": "python",
   "name": "python3"
  },
  "language_info": {
   "codemirror_mode": {
    "name": "ipython",
    "version": 3
   },
   "file_extension": ".py",
   "mimetype": "text/x-python",
   "name": "python",
   "nbconvert_exporter": "python",
   "pygments_lexer": "ipython3",
   "version": "3.9.13"
  }
 },
 "nbformat": 4,
 "nbformat_minor": 5
}
